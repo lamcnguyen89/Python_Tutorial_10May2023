{
 "cells": [
  {
   "cell_type": "code",
   "execution_count": 21,
   "id": "98d79ec7",
   "metadata": {},
   "outputs": [],
   "source": [
    "# In this project we will create an app where a user enters their login information and then the machine learning algorithm predicts what type of music the user likes "
   ]
  },
  {
   "cell_type": "code",
   "execution_count": 36,
   "id": "48dbc1ff",
   "metadata": {},
   "outputs": [
    {
     "data": {
      "text/plain": [
       "1.0"
      ]
     },
     "execution_count": 36,
     "metadata": {},
     "output_type": "execute_result"
    }
   ],
   "source": [
    "import pandas as pd\n",
    "# Choose our Machine Learning Algorithm. We will be using a decision tree\n",
    "from sklearn.tree import DecisionTreeClassifier\n",
    "# Import Module that automatically splits the data into a training and test set\n",
    "from sklearn.model_selection import train_test_split\n",
    "# Import Accuracy Score\n",
    "from sklearn.metrics import accuracy_score\n",
    "\n",
    "\n",
    "# Import Data\n",
    "music_data = pd.read_csv('music.csv')\n",
    "\n",
    "# Next we clean the data by removing duplicates and incomplete data\n",
    "# Split the data into input set and output set.\n",
    "# The input set is the age and gender. The output is the genre\n",
    "\n",
    "X = music_data.drop(columns=['genre'])\n",
    "y = music_data['genre']\n",
    "X_train, X_test, y_train, y_test = train_test_split(X,y, test_size=0.2)\n",
    "\n",
    "model = DecisionTreeClassifier()\n",
    "\n",
    "# Train model with the Decision Tree Classifier Algorithm\n",
    "model.fit(X_train.values,y_train.values)\n",
    "\n",
    "# Predict an outcome:\n",
    "predictions = model.predict(X_test.values)\n",
    "predictions\n",
    "\n",
    "score = accuracy_score(y_test.values,predictions)\n",
    "score"
   ]
  },
  {
   "cell_type": "code",
   "execution_count": 40,
   "id": "08baa21e",
   "metadata": {},
   "outputs": [
    {
     "data": {
      "text/plain": [
       "array(['HipHop'], dtype=object)"
      ]
     },
     "execution_count": 40,
     "metadata": {},
     "output_type": "execute_result"
    }
   ],
   "source": [
    "# Model Persistance: How to keep trained model and use it over and over again without having to retrain on data\n",
    "import joblib\n",
    "\n",
    "joblib.dump(model, 'Music-Recommender.joblib')\n",
    "trained_model = joblib.load('Music-Recommender.joblib')\n",
    "predictions = trained_model.predict([[21,1]])\n",
    "predictions"
   ]
  },
  {
   "cell_type": "code",
   "execution_count": 41,
   "id": "b28eef5a",
   "metadata": {},
   "outputs": [],
   "source": [
    "# Visualizing Decision Trees\n",
    "import joblib\n",
    "trained_model = joblib.load('Music-Recommender.joblib')\n",
    "X = music_data.drop(columns=['genre'])\n",
    "y = music_data['genre']\n",
    "\n",
    "import pandas as pd\n",
    "music_data = pd.read_csv('music.csv')\n",
    "\n",
    "from sklearn import tree\n",
    "tree.export_graphviz(trained_model,\n",
    "                     out_file='music-recommender.dot', \n",
    "                     feature_names=['age','gender'],\n",
    "                     class_names = sorted(y.unique()),\n",
    "                     label = 'all',\n",
    "                     rounded = True,\n",
    "                     filled = True)"
   ]
  },
  {
   "cell_type": "code",
   "execution_count": null,
   "id": "9e7ce405",
   "metadata": {},
   "outputs": [],
   "source": [
    " "
   ]
  }
 ],
 "metadata": {
  "kernelspec": {
   "display_name": "Python 3 (ipykernel)",
   "language": "python",
   "name": "python3"
  },
  "language_info": {
   "codemirror_mode": {
    "name": "ipython",
    "version": 3
   },
   "file_extension": ".py",
   "mimetype": "text/x-python",
   "name": "python",
   "nbconvert_exporter": "python",
   "pygments_lexer": "ipython3",
   "version": "3.10.9"
  }
 },
 "nbformat": 4,
 "nbformat_minor": 5
}
